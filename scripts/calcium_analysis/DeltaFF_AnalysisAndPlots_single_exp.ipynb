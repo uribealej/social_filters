{
 "cells": [
  {
   "metadata": {
    "ExecuteTime": {
     "end_time": "2025-10-29T14:24:37.262235Z",
     "start_time": "2025-10-29T14:24:37.134776Z"
    }
   },
   "cell_type": "code",
   "source": [
    "%load_ext autoreload\n",
    "%autoreload 2\n",
    "\n",
    "import numpy as np\n",
    "from pathlib import Path\n",
    "from sklearn.decomposition import PCA\n",
    "import matplotlib.pyplot as plt\n",
    "from datetime import datetime\n",
    "from scipy.cluster.hierarchy import linkage, fcluster, leaves_list\n",
    "from scipy.spatial.distance import pdist\n",
    "from sklearn.cluster import KMeans\n",
    "import seaborn as sns\n",
    "import src.stimuli_timeline as st\n",
    "import src.plotting as plott\n",
    "plt.style.use('default')\n",
    "%matplotlib qt"
   ],
   "id": "955c304eed629ac0",
   "outputs": [
    {
     "name": "stdout",
     "output_type": "stream",
     "text": [
      "The autoreload extension is already loaded. To reload it, use:\n",
      "  %reload_ext autoreload\n"
     ]
    }
   ],
   "execution_count": 291
  },
  {
   "metadata": {},
   "cell_type": "markdown",
   "source": "",
   "id": "14ae7251b49b6755"
  },
  {
   "metadata": {},
   "cell_type": "markdown",
   "source": "### Stimuli Traces",
   "id": "4dad821d06ff0bce"
  },
  {
   "metadata": {},
   "cell_type": "markdown",
   "source": [
    "\n",
    "##### Define file paths"
   ],
   "id": "4f420ab547dcc2e7"
  },
  {
   "metadata": {
    "ExecuteTime": {
     "end_time": "2025-10-29T14:24:37.384807Z",
     "start_time": "2025-10-29T14:24:37.267241Z"
    }
   },
   "cell_type": "code",
   "source": [
    "# Experiment config\n",
    "# Defines run-specific parameters: fish/experiment IDs, FPS, planes, stimulus labels/colors, pre/post windows, and filename prefixes.\n",
    "fish_id = \"L472_f06\"  # 👈 just change this\n",
    "experiment_name = 'Exp_2_rocking_1'  # 👈 just change this\n",
    "fish = f\"{fish_id}_{experiment_name}\"\n",
    "#stimuli path\n",
    "#stimuli_path = Path(r\"\\\\nasdcsr.unil.ch\\RECHERCHE\\FAC\\FBM\\CIG\\jlarsch\\default\\D2c\\Alejandro\\2p\\flickering\\stimuli\")\n",
    "stimuli_main_path = Path(r\"\\\\nasdcsr.unil.ch\\RECHERCHE\\FAC\\FBM\\CIG\\jlarsch\\default\\D2c\\Alejandro\\2p\")\n",
    "stimuli_path =  stimuli_main_path / experiment_name  / \"stimuli\"\n",
    "#experiment path\n",
    "main_path = Path(r\"C:\\Users\\suribear\\OneDrive - Université de Lausanne\\Lab\\Data\\2p\")\n",
    "# --- FIND THE CORRECT LOG FILE ---\n",
    "metadata_dir = main_path / fish / \"01_raw\" / \"2p\" / \"metadata\"\n",
    "# deltaF/F path\n",
    "dfof_dir= main_path / fish / \"03_analysis\" / \"functional\" / \"suite2P\" / \"merged_dFoF\"\n",
    "# plots saving path\n",
    "plots_path = main_path / fish / \"03_analysis\" / \"functional\" / \"plots\" / \"merged_dFoF\""
   ],
   "id": "d195d45e70c8d7da",
   "outputs": [],
   "execution_count": 292
  },
  {
   "metadata": {
    "ExecuteTime": {
     "end_time": "2025-10-29T14:24:37.549819Z",
     "start_time": "2025-10-29T14:24:37.405546Z"
    }
   },
   "cell_type": "code",
   "source": [
    "# Load deltaF/F data\n",
    "c = [p for p in dfof_dir.glob(\"*.npy\") if \"dfof_merged\" in p.name.lower()]\n",
    "dfof = np.load(c[0])\n",
    "# print(\"✅ Loaded:\", dfof)\n",
    "print(\"Shape:\", dfof.shape)"
   ],
   "id": "9f7c4748846d3bcc",
   "outputs": [
    {
     "name": "stdout",
     "output_type": "stream",
     "text": [
      "Shape: (3340, 1363)\n"
     ]
    }
   ],
   "execution_count": 293
  },
  {
   "metadata": {
    "ExecuteTime": {
     "end_time": "2025-10-29T14:24:37.719330Z",
     "start_time": "2025-10-29T14:24:37.571154Z"
    }
   },
   "cell_type": "code",
   "source": [
    "# Inputs\n",
    "fps_2p = 2\n",
    "selected_blocks = [f'B{n}' for n in range(1, 3)]\n",
    "# number of frames from dfof\n",
    "frames_per_block = dfof.shape[0] / len(selected_blocks)\n",
    "print(frames_per_block)"
   ],
   "id": "26664f9919fedbc4",
   "outputs": [
    {
     "name": "stdout",
     "output_type": "stream",
     "text": [
      "1670.0\n"
     ]
    }
   ],
   "execution_count": 294
  },
  {
   "metadata": {},
   "cell_type": "markdown",
   "source": "##### Load Stimuli Durations",
   "id": "6cd37f4caadfb155"
  },
  {
   "metadata": {
    "ExecuteTime": {
     "end_time": "2025-10-29T14:24:37.948412Z",
     "start_time": "2025-10-29T14:24:37.743484Z"
    }
   },
   "cell_type": "code",
   "source": [
    "stimuli_durations = {}\n",
    "\n",
    "for stim_file in stimuli_path.glob(\"*trajectory.*\"):\n",
    "    filename = stim_file.stem  # e.g., 'FL2_trajectory'\n",
    "    stim_name = filename.replace(\"_trajectory\", \"\")  # e.g., 'FL2'\n",
    "\n",
    "    if any(s in filename for s in (\"B\", \"RR\", \"RL\")):\n",
    "        stimuli_durations[stim_name] = st.get_stimulus_timing(stim_file)\n",
    "    else:\n",
    "        stimuli_durations[stim_name] = st.get_radius_timing(stim_file)\n"
   ],
   "id": "3d075c7a40a5f30f",
   "outputs": [],
   "execution_count": 295
  },
  {
   "metadata": {
    "ExecuteTime": {
     "end_time": "2025-10-29T14:24:38.065343Z",
     "start_time": "2025-10-29T14:24:37.966075Z"
    }
   },
   "cell_type": "code",
   "source": [
    "# it converts each stimulus record to include motion_sec, zeroes static_after_sec, and normalizes the end frame fields to total_frames (falling back to motion_end_frame) without touching the original input.\n",
    "\n",
    "def transform_stimuli_duration(d):\n",
    "    out = {}\n",
    "    for k, v in d.items():\n",
    "        total_sec = v.get('total_sec', 0)\n",
    "        static_before = v.get('static_before_sec', 0)\n",
    "        total_frames = v.get('total_frames', v.get('motion_end_frame'))\n",
    "\n",
    "        new_v = v.copy()\n",
    "        new_v['motion_sec'] = round(total_sec - static_before, 3)\n",
    "        new_v['static_after_sec'] = 0\n",
    "        if total_frames is not None:\n",
    "            new_v['motion_end_frame'] = total_frames\n",
    "            new_v['end_frame'] = total_frames\n",
    "        out[k] = new_v\n",
    "    return out\n",
    "\n",
    "new_data = transform_stimuli_duration(stimuli_durations)\n",
    "\n",
    "#print(new_data)"
   ],
   "id": "a34d4e168e887bd9",
   "outputs": [],
   "execution_count": 296
  },
  {
   "metadata": {},
   "cell_type": "markdown",
   "source": "##### Compute experiment stimuli traces",
   "id": "111c1c5fdc8918d3"
  },
  {
   "metadata": {
    "ExecuteTime": {
     "end_time": "2025-10-29T14:24:38.199051Z",
     "start_time": "2025-10-29T14:24:38.084813Z"
    }
   },
   "cell_type": "code",
   "source": [
    "# build stimulus traces aligned to 2P time\n",
    "# Reads the block-log CSV, time-shifts selected blocks to a common 2P timeline, and generates binary time series for each requested trace  using per-stimulus durations.\n",
    "\n",
    "# find all CSVs that end with \"block_log.csv\"\n",
    "stimuli_durations=new_data #updates stimuli_durations to the transformed new_data from earlier\n",
    "block_logs = list(metadata_dir.glob(\"*block_log.csv\"))\n",
    "\n",
    "if not block_logs:\n",
    "    raise FileNotFoundError(f\"No '*block_log.csv' file found in {metadata_dir}\")\n",
    "elif len(block_logs) > 1:\n",
    "    print(\"⚠️ Multiple block log files found, using the most recent one:\")\n",
    "    for f in block_logs:\n",
    "        print(\" -\", f.name)\n",
    "    # sort by modification time and pick the newest\n",
    "    block_logs.sort(key=lambda p: p.stat().st_mtime, reverse=True)\n",
    "\n",
    "experiment_log_path = block_logs[0]\n",
    "print(\"✅ Using block log:\", experiment_log_path)\n",
    "\n",
    "# --- EXAMPLE USAGE ---\n",
    "\n",
    "duration_2p_block_sec = frames_per_block / fps_2p\n",
    "\n",
    "traces_dict, exp_log = st.make_stimulus_traces(\n",
    "    experiment_log_path,\n",
    "    stimuli_durations,\n",
    "    selected_blocks,\n",
    "    duration_2p_block_sec\n",
    ")\n"
   ],
   "id": "5cddadbf399f4b31",
   "outputs": [
    {
     "name": "stdout",
     "output_type": "stream",
     "text": [
      "✅ Using block log: C:\\Users\\suribear\\OneDrive - Université de Lausanne\\Lab\\Data\\2p\\L472_f06_Exp_2_rocking_1\\01_raw\\2p\\metadata\\2025-09-03-1635_L472_f06_block_log.csv\n"
     ]
    }
   ],
   "execution_count": 297
  },
  {
   "metadata": {
    "ExecuteTime": {
     "end_time": "2025-10-29T14:24:38.325634Z",
     "start_time": "2025-10-29T14:24:38.215696Z"
    }
   },
   "cell_type": "code",
   "source": [
    "# select colors and linestyles for stimuli\n",
    "# --- Set A (default) ----------------------------------------------------------\n",
    "colors_A = {\n",
    "    'LLB': sns.color_palette('Blues', 8)[7],\n",
    "    'RLB': sns.color_palette('Greens', as_cmap=True)(0.6),\n",
    "    'FLB': sns.color_palette('Blues', 8)[7],\n",
    "    'FRB': sns.color_palette('Greens', as_cmap=True)(0.6),\n",
    "    'FL1': sns.color_palette('PuRd', as_cmap=True)(0.9),\n",
    "    'FL2': sns.color_palette('PuRd', as_cmap=True)(0.6),\n",
    "    'FL3': sns.color_palette('dark:#404040', 10)[7],\n",
    "    'FR1': sns.color_palette('PuRd', as_cmap=True)(0.9),\n",
    "    'FR2': sns.color_palette('PuRd', as_cmap=True)(0.6),\n",
    "    'FR3': sns.color_palette('dark:#404040', 10)[7],\n",
    "}\n",
    "linestyles_A = {\n",
    "    'FLB': '--',\n",
    "    'FRB': '--',\n",
    "    'FL1': '--',\n",
    "    'FL2': '--',\n",
    "    'FL3': '--',\n",
    "}\n",
    "\n",
    "# --- Set B (rocking experiment) ----------------------------------------------\n",
    "colors_B = {\n",
    "    'LB':   sns.color_palette('Blues', 8)[7],\n",
    "    'RR1':  sns.color_palette('Greens', as_cmap=True)(0.6),\n",
    "    'RB':   sns.color_palette('Blues', 8)[7],\n",
    "    'RL1':  sns.color_palette('Greens', as_cmap=True)(0.6),\n",
    "    'RR2':  sns.color_palette('PuRd', as_cmap=True)(0.9),\n",
    "    'RR3':  sns.color_palette('PuRd', as_cmap=True)(0.6),\n",
    "    'RLR1': sns.color_palette('dark:#404040', 10)[7],\n",
    "    'RL2':  sns.color_palette('PuRd', as_cmap=True)(0.9),   # fixed case from 'Rl2' → 'RL2'\n",
    "    'RL3':  sns.color_palette('PuRd', as_cmap=True)(0.6),\n",
    "    'RLR2': sns.color_palette('dark:#404040', 10)[7],\n",
    "}\n",
    "linestyles_B = {\n",
    "    'LB': '--',\n",
    "    'RL1': '--',\n",
    "    'RL2': '--',\n",
    "    'RL3': '--',\n",
    "    'RLR2': '--',\n",
    "}\n",
    "\n",
    "# --- Select set based on experiment name --------------------------------------\n",
    "if experiment_name == 'Exp_2_rocking_1':\n",
    "    stimuli_colors = colors_B\n",
    "    stimuli_linestyles = linestyles_B\n",
    "else:\n",
    "    stimuli_colors = colors_A\n",
    "    stimuli_linestyles = linestyles_A\n",
    "\n",
    "print(\"Using colors for:\", experiment_name)\n",
    "print(stimuli_linestyles)"
   ],
   "id": "1080c3b639d2aeac",
   "outputs": [
    {
     "name": "stdout",
     "output_type": "stream",
     "text": [
      "Using colors for: Exp_2_rocking_1\n",
      "{'LB': '--', 'RL1': '--', 'RL2': '--', 'RL3': '--', 'RLR2': '--'}\n"
     ]
    }
   ],
   "execution_count": 298
  },
  {
   "metadata": {},
   "cell_type": "markdown",
   "source": [
    "\n",
    "\n",
    "\n",
    "Plot"
   ],
   "id": "6368d32c6958600e"
  },
  {
   "metadata": {
    "ExecuteTime": {
     "end_time": "2025-10-29T14:24:38.552584Z",
     "start_time": "2025-10-29T14:24:38.346213Z"
    }
   },
   "cell_type": "code",
   "source": [
    "#plot stimuli as a binary trace\n",
    "fps_stim=60\n",
    "fig, ax = plt.subplots(figsize=(15, 2))\n",
    "plott.add_stimuli_markers(ax, exp_log, stimuli_durations, stimuli_colors,stimuli_linestyles=stimuli_linestyles)\n",
    "plt.title('Movement Periods')\n",
    "plt.xlabel('Time (sec)')\n",
    "plt.ylabel('Movement (Binary)')\n",
    "plt.grid(True)\n",
    "plt.ylim(0, 1.1)\n",
    "plt.xlim(0, len(traces_dict['movement']) / fps_stim)\n",
    "plt.tight_layout()\n",
    "plt.show()\n"
   ],
   "id": "81d7fb675cf79e9b",
   "outputs": [],
   "execution_count": 299
  },
  {
   "metadata": {
    "ExecuteTime": {
     "end_time": "2025-10-29T15:38:50.481708Z",
     "start_time": "2025-10-29T15:38:50.346632Z"
    }
   },
   "cell_type": "code",
   "source": [
    "# assume fps_stim is defined (e.g., 60) and ax is your matplotlib axes\n",
    "for stim_name, timing in stimuli_durations.items():\n",
    "    start_f = timing.get('start_frame', timing.get('motion_start_frame'))\n",
    "    end_f   = timing.get('end_frame',   timing.get('motion_end_frame'))\n",
    "    if start_f is None or end_f is None:\n",
    "        print(f\"Skipping {stim_name}: no start/end frame keys\")\n",
    "        continue\n",
    "\n",
    "    start = start_f / fps_stim\n",
    "    end   = end_f   / fps_stim\n",
    "    ax.axvspan(start, end, alpha=0.3)  # avoid hardcoding a color unless you want to\n"
   ],
   "id": "28c03f72954ee6a8",
   "outputs": [],
   "execution_count": 308
  },
  {
   "metadata": {},
   "cell_type": "markdown",
   "source": "### Delta F - fluorescent traces",
   "id": "3487812362966de3"
  },
  {
   "metadata": {},
   "cell_type": "markdown",
   "source": "### Plots",
   "id": "f7b9a5f69ee363f0"
  },
  {
   "metadata": {},
   "cell_type": "markdown",
   "source": "##### All Planes raster plots with line for stimulus onset",
   "id": "f3e95d158c803749"
  },
  {
   "metadata": {
    "ExecuteTime": {
     "end_time": "2025-10-29T14:24:39.112730Z",
     "start_time": "2025-10-29T14:24:38.762275Z"
    }
   },
   "cell_type": "code",
   "source": [
    "# plot full dfof raster with stimuli markers no sorting\n",
    "deltaF_F = dfof  # (frames x neurons)\n",
    "\n",
    "fig, ax = plt.subplots(figsize=(12, 4))\n",
    "\n",
    "# call your function — use vmax (or vmin/vmax) depending on your signature\n",
    "im = plott.raster_with_stimuli(\n",
    "    ax=ax,\n",
    "    deltaF_F=deltaF_F,\n",
    "    fps=fps_2p,\n",
    "    fish_id=fish_id,\n",
    "    max=0.3,        # if your function still uses min/max, use min=0, max=0.4 instead\n",
    ")\n",
    "\n",
    "# add stimuli markers & legend on the SAME axes\n",
    "legend_handles = plott.add_stimuli_markers(ax, exp_log, stimuli_durations, stimuli_colors,stimuli_linestyles=stimuli_linestyles)\n",
    "ax.legend(handles=legend_handles, title=\"Stimuli\",\n",
    "          bbox_to_anchor=(1.2, 1), loc='upper left', borderaxespad=0, frameon=False)\n",
    "\n",
    "ax.set_xlabel(\"Time (s)\")\n",
    "\n",
    "# add colorbar to the SAME figure\n",
    "fig.colorbar(im, ax=ax, label=\"ΔF/F\")\n",
    "\n",
    "fig.tight_layout()\n",
    "plt.show()\n",
    "\n"
   ],
   "id": "a1c094a28a2ab60",
   "outputs": [],
   "execution_count": 301
  },
  {
   "metadata": {},
   "cell_type": "markdown",
   "source": "##### Plane 3 plot across clustering methods",
   "id": "488c4dde198db011"
  },
  {
   "metadata": {},
   "cell_type": "markdown",
   "source": "#### Grouped rasterplots",
   "id": "6e677607717d79bd"
  },
  {
   "metadata": {
    "ExecuteTime": {
     "end_time": "2025-10-29T14:24:42.424534Z",
     "start_time": "2025-10-29T14:24:39.436998Z"
    }
   },
   "cell_type": "code",
   "source": [
    "# select parameters including sorting mode, stimuli order, and windows\n",
    "# sort deltaF_F base on max_intensity, correlation, kmeans, \"pca\", \"hier\",  or \"unsorted\"\n",
    "# --- choose stimulus-aligned windows ---\n",
    "\n",
    "# --- choose neuron sorting ---\n",
    "window_pre = 5  # seconds before stimulus\n",
    "window_post = 17  # seconds after stimulus\n",
    "\n",
    "\n",
    "# <-- change to: max_intensity, correlation, kmeans, \"pca\", \"hier\",  or \"unsorted\"\n",
    "sort_mode = \"correlation\"\n",
    "\n",
    "# define stimuli order based on experiment\n",
    "stimuli_ordered_A = ['LLB', 'FLB', 'RLB' , 'FRB','FL1', 'FL2', 'FL3', 'FR1', 'FR2', 'FR3']  # Order of\n",
    "stimuli_ordered_B = ['LB','RB','RR1','RR2','RR3','RL1','RL2','RL3','RLR1','RLR2' ]\n",
    "\n",
    "if experiment_name == 'Exp_2_rocking_1':\n",
    "    stimuli_ordered = stimuli_ordered_B\n",
    "else:\n",
    "    stimuli_ordered = stimuli_ordered_A\n",
    "\n",
    "\n",
    "# (a) Max intensity (peak ΔF/F per neuron)\n",
    "max_per_neuron   = np.nanmax(deltaF_F, axis=0)         # (neurons,)\n",
    "maxint_sorted_idx = np.argsort(-max_per_neuron)\n",
    "\n",
    "# (b) PCA (PC1 desc) over neurons\n",
    "scores    = PCA(n_components=3).fit_transform(deltaF_F.T )  # (neurons, 3)\n",
    "PCA_order = np.argsort(-scores[:, 0])\n",
    "\n",
    "# (c) KMeans over neurons\n",
    "n_clusters = 5\n",
    "kmeans = KMeans(n_clusters=n_clusters, random_state=42).fit(deltaF_F.T )\n",
    "kmeans_sorted_idx = np.argsort(kmeans.labels_)  # group by label\n",
    "\n",
    "# (d) Hierarchical (Ward) over neurons\n",
    "Z_hier = linkage(deltaF_F.T , method='ward')\n",
    "clusters = fcluster(Z_hier, t=5, criterion='maxclust')\n",
    "hier_sorted_idx = np.argsort(clusters)\n",
    "\n",
    "# (e) Correlation sort on the **averaged chunks** (neurons x time)\n",
    "dist = pdist(deltaF_F.T, metric='correlation')\n",
    "Z_corr = linkage(dist, method='average')\n",
    "corravg_sorted_idx = leaves_list(Z_corr)\n",
    "\n",
    "\n",
    "n_neurons = dfof.shape[1]\n",
    "\n",
    "def _validate_order(idx, name):\n",
    "    if idx is None:\n",
    "        raise ValueError(f\"{name} is not defined but sort_mode='{name}' was selected.\")\n",
    "    if len(idx) != n_neurons:\n",
    "        raise ValueError(f\"{name} length ({len(idx)}) != number of neurons ({n_neurons}).\")\n",
    "    return idx\n",
    "\n",
    "if sort_mode == \"kmeans\":\n",
    "    neuron_order = _validate_order(kmeans_sorted_idx, \"kmeans_sorted_idx\")\n",
    "elif sort_mode == \"pca\":\n",
    "    neuron_order = _validate_order(PCA_order, \"PCA_order\")\n",
    "elif sort_mode == \"hier\":\n",
    "    neuron_order = _validate_order(hier_sorted_idx, \"hier_sorted_idx\")\n",
    "elif sort_mode == \"max_intensity\":\n",
    "    neuron_order = _validate_order(maxint_sorted_idx, \"maxint_sorted_idx\")\n",
    "elif sort_mode == \"correlation\":\n",
    "    neuron_order = _validate_order(corravg_sorted_idx, \"corravg_sorted_idx\")\n",
    "elif sort_mode == \"unsorted\":\n",
    "    neuron_order = None\n",
    "else:\n",
    "    raise ValueError(\"sort_mode must be one of: 'kmeans', 'pca', 'hier', 'max_intensity', 'unsorted'\")\n",
    "print(stimuli_ordered)"
   ],
   "id": "b7506295c9357c7d",
   "outputs": [
    {
     "name": "stderr",
     "output_type": "stream",
     "text": [
      "C:\\Users\\suribear\\AppData\\Local\\anaconda3\\envs\\neuro-group\\Lib\\site-packages\\sklearn\\cluster\\_kmeans.py:1419: UserWarning: KMeans is known to have a memory leak on Windows with MKL, when there are less chunks than available threads. You can avoid it by setting the environment variable OMP_NUM_THREADS=6.\n",
      "  warnings.warn(\n"
     ]
    },
    {
     "name": "stdout",
     "output_type": "stream",
     "text": [
      "['LB', 'RB', 'RR1', 'RR2', 'RR3', 'RL1', 'RL2', 'RL3', 'RLR1', 'RLR2']\n"
     ]
    }
   ],
   "execution_count": 302
  },
  {
   "metadata": {},
   "cell_type": "markdown",
   "source": "##### Grouped chuncks ordered per stimulus type",
   "id": "d05c46e3ac283312"
  },
  {
   "metadata": {
    "ExecuteTime": {
     "end_time": "2025-10-29T14:24:42.712890Z",
     "start_time": "2025-10-29T14:24:42.471280Z"
    }
   },
   "cell_type": "code",
   "source": [
    "# gruped chunks ordered by stimulus type, sorted by selected method\n",
    "\n",
    "# 1) Build chunks\n",
    "chunked_data, trial_starts, move_starts, move_colors, stim_labels = st.extract_stimulus_chunks(\n",
    "    deltaF_F=dfof,\n",
    "    exp_log=exp_log,\n",
    "    stimuli_durations=stimuli_durations,\n",
    "    stimuli_colors=stimuli_colors,\n",
    "    fps=fps_2p,\n",
    "    stimuli_ordered=stimuli_ordered,\n",
    "    window_pre=window_pre,\n",
    "    window_post=window_post,\n",
    "    average_across_repeats=False,\n",
    ")\n",
    "\n",
    "if chunked_data is None or chunked_data.size == 0:\n",
    "    raise ValueError(\"No stimulus chunks were extracted. Check exp_log, stimuli_ordered, and windows.\")\n",
    "\n",
    "# 2) Plot raster\n",
    "fig, ax = plt.subplots(figsize=(12, 6))\n",
    "im = plott.raster_with_stimuli(\n",
    "    ax=ax,\n",
    "    deltaF_F=chunked_data.T,   # (time, neurons)\n",
    "    fps=fps_2p,\n",
    "    fish_id=fish_id,\n",
    "    neuron_order=neuron_order, # provided by your sort selector\n",
    "    title_suffix=f\"ordered by stimulus type | sort={sort_mode}\",\n",
    "    max=0.3\n",
    ")\n",
    "\n",
    "# 3) Movement start lines — use style based on each chunk's stimulus label\n",
    "move_styles = [stimuli_linestyles.get(name, '-') for name in stim_labels]\n",
    "for pos, color, ls in zip(move_starts, move_colors, move_styles):\n",
    "    ax.axvline(pos / fps_2p, color=color, linestyle=ls, alpha=0.9, linewidth=1.0)\n",
    "\n",
    "ax.set_xlabel(\"Chunks aligned to stimulus onset (s)\")\n",
    "\n",
    "# 4) Legend that matches color + linestyle\n",
    "legend_handles = []\n",
    "for stim_name, color in stimuli_colors.items():\n",
    "    ls = stimuli_linestyles.get(stim_name, '-')\n",
    "    (line,) = ax.plot([], [], color=color, linestyle=ls, label=stim_name, linewidth=2)\n",
    "    legend_handles.append(line)\n",
    "\n",
    "ax.legend(\n",
    "    handles=legend_handles,\n",
    "    title=\"Movement onset\\nacross stimuli\",\n",
    "    bbox_to_anchor=(1.15, 1),\n",
    "    loc=\"upper left\",\n",
    "    borderaxespad=0,\n",
    "    frameon=False\n",
    ")\n",
    "\n",
    "# 5) Colorbar + layout\n",
    "fig.colorbar(im, ax=ax, label=\"ΔF/F\")\n",
    "fig.tight_layout()\n",
    "plt.show()\n",
    "\n"
   ],
   "id": "a2d43b57b212acd7",
   "outputs": [],
   "execution_count": 303
  },
  {
   "metadata": {
    "ExecuteTime": {
     "end_time": "2025-10-29T14:25:06.281384Z",
     "start_time": "2025-10-29T14:24:43.044743Z"
    }
   },
   "cell_type": "code",
   "source": [
    "# Purpose.\n",
    "# Generate experiment-level ΔF/F rasters aligned to stimulus onsets, averaged across repeats, and saved once per sorting strategy (unsorted, max intensity, PCA, KMeans, hierarchical, and correlation on averaged responses).\n",
    "\n",
    "import os\n",
    "os.environ[\"OMP_NUM_THREADS\"] = \"2\"  # or \"1\"\n",
    "\n",
    "# ----- pick a short prefix like \"L433_f03\" from \"L433_f03_Exp_1_flickering\"\n",
    "prefix = \"_\".join(fish.split(\"_\")[:2])\n",
    "\n",
    "# ----- ensure output dir exists\n",
    "plots_path.mkdir(parents=True, exist_ok=True)\n",
    "\n",
    "# ===== 1) Build chunks (averaged across repeats) once =====\n",
    "chunked_data, trial_starts, move_starts, move_colors, stim_labels = st.extract_stimulus_chunks(\n",
    "    deltaF_F=dfof,                 # (frames, neurons)\n",
    "    exp_log=exp_log,\n",
    "    stimuli_durations=stimuli_durations,\n",
    "    stimuli_colors=stimuli_colors,\n",
    "    fps=fps_2p,\n",
    "    stimuli_ordered=stimuli_ordered,\n",
    "    window_pre=window_pre,\n",
    "    window_post=window_post,\n",
    "    average_across_repeats=False\n",
    ")\n",
    "if chunked_data is None or chunked_data.size == 0:\n",
    "    raise ValueError(\"No stimulus chunks were extracted. Check exp_log, stimuli_ordered, and windows.\")\n",
    "# chunked_data: (neurons, time)\n",
    "\n",
    "# ===== 2) Precompute neuron orders for each sort mode (on full dfof unless noted) =====\n",
    "deltaF_F = dfof  # (frames, neurons)\n",
    "\n",
    "# (a) Max intensity (peak ΔF/F per neuron)\n",
    "max_per_neuron   = np.nanmax(chunked_data.T, axis=0)         # (neurons,)\n",
    "maxint_sorted_idx = np.argsort(-max_per_neuron)\n",
    "\n",
    "# (b) PCA (PC1 desc) over neurons\n",
    "scores    = PCA(n_components=3).fit_transform(chunked_data)  # (neurons, 3)\n",
    "PCA_order = np.argsort(-scores[:, 0])\n",
    "\n",
    "# (c) KMeans over neurons\n",
    "n_clusters = 5\n",
    "kmeans = KMeans(n_clusters=n_clusters, random_state=42).fit(chunked_data)\n",
    "kmeans_sorted_idx = np.argsort(kmeans.labels_)  # group by label\n",
    "\n",
    "# (d) Hierarchical (Ward) over neurons\n",
    "Z_hier = linkage(chunked_data, method='ward')\n",
    "clusters = fcluster(Z_hier, t=5, criterion='maxclust')\n",
    "hier_sorted_idx = np.argsort(clusters)\n",
    "\n",
    "# (e) Correlation sort on the **averaged chunks** (neurons x time)\n",
    "dist = pdist(chunked_data, metric='correlation')\n",
    "Z_corr = linkage(dist, method='average')\n",
    "corravg_sorted_idx = leaves_list(Z_corr)\n",
    "\n",
    "# Map from mode -> (index array or None, label suffix)\n",
    "sorters = {\n",
    "    \"unsorted\":        (None,                   \"unsorted\"),\n",
    "    \"max_intensity\":   (maxint_sorted_idx,      \"max_intensity\"),\n",
    "    \"pca\":             (PCA_order,              \"pca\"),\n",
    "    \"kmeans\":          (kmeans_sorted_idx,      \"kmeans\"),\n",
    "    \"hier\":            (hier_sorted_idx,        \"hier\"),\n",
    "    \"corravg\":         (corravg_sorted_idx,     \"corravg\"),  # correlation on averaged chunks\n",
    "}\n",
    "\n",
    "\n",
    "def _validate_order(idx, n_neurons, name):\n",
    "    if idx is None:\n",
    "        return None\n",
    "    if len(idx) != n_neurons:\n",
    "        raise ValueError(f\"{name} length ({len(idx)}) != number of neurons ({n_neurons}).\")\n",
    "    return idx\n",
    "\n",
    "# ===== 3) Plot once per sort mode (use chunked_data for raster) =====\n",
    "for mode, (idx, tag) in sorters.items():\n",
    "    neuron_order = _validate_order(idx, chunked_data.shape[0], name=mode)\n",
    "\n",
    "    fig, ax = plt.subplots(figsize=(12, 6))\n",
    "    im = plott.raster_with_stimuli(\n",
    "        ax=ax,\n",
    "        deltaF_F=chunked_data.T,            # (time, neurons)\n",
    "        fps=fps_2p,\n",
    "        fish_id=fish_id,\n",
    "        neuron_order=neuron_order,          # None = original order\n",
    "        title_suffix=f\"ordered by stimulus type | sort={tag}\",\n",
    "        min=0.009,\n",
    "        max=0.3\n",
    "    )\n",
    "\n",
    "    # Movement onset lines with per-stim color + linestyle\n",
    "    for pos, stim_name in zip(move_starts, stim_labels):\n",
    "        color = stimuli_colors.get(stim_name, 'black')\n",
    "        ls    = stimuli_linestyles.get(stim_name, '-')  # default solid\n",
    "        ax.axvline(pos / fps_2p, color=color, linestyle=ls, alpha=0.9, linewidth=1.8)\n",
    "\n",
    "    # Legend (color + linestyle)\n",
    "    legend_handles = []\n",
    "    for stim_name in stimuli_ordered:\n",
    "        if stim_name in stimuli_colors:\n",
    "            color = stimuli_colors[stim_name]\n",
    "            ls    = stimuli_linestyles.get(stim_name, '-')\n",
    "            (line,) = ax.plot([], [], color=color, linestyle=ls, label=stim_name, linewidth=1.5)\n",
    "            legend_handles.append(line)\n",
    "\n",
    "    leg = ax.legend(\n",
    "        handles=legend_handles, title=\"Movement onset\\nacross stimuli\",\n",
    "        bbox_to_anchor=(1.2, 1), loc='upper left',\n",
    "        borderaxespad=0, frameon=False\n",
    "    )\n",
    "\n",
    "    ax.set_xlabel(\"Chunks aligned to stimulus onset (s)\")\n",
    "    fig.colorbar(im, ax=ax, label=\"ΔF/F\")\n",
    "    plt.subplots_adjust(right=0.85)\n",
    "\n",
    "    # Save\n",
    "    out_png = plots_path / f\"{prefix}_grouped_dfof_sorted_by_{tag}.png\"\n",
    "    fig.savefig(out_png, dpi=600, bbox_inches=\"tight\")\n",
    "    plt.close(fig)\n",
    "\n",
    "print(\"✅ Saved:\", *[f\"{prefix}_grouped_dfof_sorted_by_{tag}.png\" for _, (_, tag) in sorters.items()], sep=\"\\n- \")\n"
   ],
   "id": "3388b91afe202b59",
   "outputs": [
    {
     "name": "stderr",
     "output_type": "stream",
     "text": [
      "C:\\Users\\suribear\\AppData\\Local\\anaconda3\\envs\\neuro-group\\Lib\\site-packages\\sklearn\\cluster\\_kmeans.py:1419: UserWarning: KMeans is known to have a memory leak on Windows with MKL, when there are less chunks than available threads. You can avoid it by setting the environment variable OMP_NUM_THREADS=6.\n",
      "  warnings.warn(\n"
     ]
    },
    {
     "name": "stdout",
     "output_type": "stream",
     "text": [
      "✅ Saved:\n",
      "- L472_f06_grouped_dfof_sorted_by_unsorted.png\n",
      "- L472_f06_grouped_dfof_sorted_by_max_intensity.png\n",
      "- L472_f06_grouped_dfof_sorted_by_pca.png\n",
      "- L472_f06_grouped_dfof_sorted_by_kmeans.png\n",
      "- L472_f06_grouped_dfof_sorted_by_hier.png\n",
      "- L472_f06_grouped_dfof_sorted_by_corravg.png\n"
     ]
    }
   ],
   "execution_count": 304
  },
  {
   "metadata": {},
   "cell_type": "markdown",
   "source": [
    "##### Average rasterplots\n",
    "Unsorted"
   ],
   "id": "8aadc0c2dd74b5e3"
  },
  {
   "metadata": {},
   "cell_type": "markdown",
   "source": "Sorted by Pearson correlation",
   "id": "c2b38377a29501b0"
  },
  {
   "metadata": {
    "ExecuteTime": {
     "end_time": "2025-10-29T14:25:08.920392Z",
     "start_time": "2025-10-29T14:25:08.319262Z"
    }
   },
   "cell_type": "code",
   "source": [
    "# averaged chunked_data shape: (neurons, time) sorted by stimulus type and by pearson correlation\n",
    "# ---- 1) Extract chunks from the full dfof, averaged across repeats ----\n",
    "chunked_data, trial_starts, move_starts, move_colors, stim_labels = st.extract_stimulus_chunks(\n",
    "    deltaF_F=dfof,                 # (frames, neurons)\n",
    "    exp_log=exp_log,\n",
    "    stimuli_durations=stimuli_durations,\n",
    "    stimuli_colors=stimuli_colors,\n",
    "    fps=fps_2p,\n",
    "    stimuli_ordered=stimuli_ordered,\n",
    "    window_pre=window_pre,\n",
    "    window_post=window_post,\n",
    "    average_across_repeats=True\n",
    ")\n",
    "\n",
    "if chunked_data is None or chunked_data.size == 0:\n",
    "    raise ValueError(\"No stimulus chunks were extracted. Check exp_log, stimuli_ordered, and windows.\")\n",
    "\n",
    "# chunked_data shape: (neurons, time)  ✅\n",
    "\n",
    "# ---- 2) Compute distances: 1 - Pearson correlation across the (averaged) chunked time series ----\n",
    "dist = pdist(chunked_data, metric='correlation')  # rows = neurons, columns = time (averaged)\n",
    "Z = linkage(dist, method='average')\n",
    "sorted_indices = leaves_list(Z)\n",
    "\n",
    "# ---- 3) Plot the correlation-sorted raster ----\n",
    "fig, ax = plt.subplots(figsize=(9, 6))\n",
    "im = plott.raster_with_stimuli(\n",
    "    ax=ax,\n",
    "    deltaF_F=chunked_data.T,    # (time, neurons)\n",
    "    fps=fps_2p,\n",
    "    fish_id=fish_id,\n",
    "    neuron_order=sorted_indices,\n",
    "    title_suffix='Average across trials • sorted by Pearson correlation',\n",
    "    min=0.009,\n",
    "    max=0.3\n",
    ")\n",
    "\n",
    "\n",
    "# 3) ➜ Overlay movement start lines using per-stim linestyle\n",
    "for pos, stim_name in zip(move_starts, stim_labels):\n",
    "    color = stimuli_colors.get(stim_name, 'black')\n",
    "    ls    = stimuli_linestyles.get(stim_name, '-')   # default solid if not specified\n",
    "    ax.axvline(pos / fps_2p, color=color, linestyle=ls, alpha=0.9, linewidth=1.5)\n",
    "\n",
    "# 4) ➜ Legend that reflects both color and linestyle\n",
    "legend_handles = []\n",
    "for stim_name in stimuli_ordered:\n",
    "    if stim_name in stimuli_colors:\n",
    "        color = stimuli_colors[stim_name]\n",
    "        ls    = stimuli_linestyles.get(stim_name, '-')  # same default\n",
    "        (line,) = ax.plot([], [], color=color, linestyle=ls, label=stim_name, linewidth=1.5)\n",
    "        legend_handles.append(line)\n",
    "\n",
    "ax.legend(\n",
    "    handles=legend_handles,\n",
    "    title=\"Movement onset \\n across stimuli\",\n",
    "    bbox_to_anchor=(1.2, 1),\n",
    "    loc='upper left',\n",
    "    borderaxespad=0,\n",
    "    frameon=False\n",
    ")\n",
    "\n",
    "ax.set_xlabel(\"Chunks aligned to stimulus onset (s)\")\n",
    "\n",
    "# 5) Colorbar + layout ... [unchanged]\n",
    "fig.colorbar(im, ax=ax, label=\"ΔF/F\")\n",
    "plt.subplots_adjust(right=0.85)\n",
    "plt.show()\n",
    "\n"
   ],
   "id": "2fd2c2911742da28",
   "outputs": [],
   "execution_count": 305
  },
  {
   "metadata": {
    "ExecuteTime": {
     "end_time": "2025-10-29T14:25:23.597249Z",
     "start_time": "2025-10-29T14:25:09.118076Z"
    }
   },
   "cell_type": "code",
   "source": [
    "# Purpose.\n",
    "# Generate experiment-level ΔF/F rasters aligned to stimulus onsets, averaged across repeats, and saved once per sorting strategy (unsorted, max intensity, PCA, KMeans, hierarchical, and correlation on averaged responses).\n",
    "\n",
    "import os\n",
    "os.environ[\"OMP_NUM_THREADS\"] = \"2\"  # or \"1\"\n",
    "\n",
    "# ----- pick a short prefix like \"L433_f03\" from \"L433_f03_Exp_1_flickering\"\n",
    "prefix = \"_\".join(fish.split(\"_\")[:2])\n",
    "\n",
    "# ----- ensure output dir exists\n",
    "plots_path.mkdir(parents=True, exist_ok=True)\n",
    "\n",
    "# ===== 1) Build chunks (averaged across repeats) once =====\n",
    "chunked_data, trial_starts, move_starts, move_colors, stim_labels = st.extract_stimulus_chunks(\n",
    "    deltaF_F=dfof,                 # (frames, neurons)\n",
    "    exp_log=exp_log,\n",
    "    stimuli_durations=stimuli_durations,\n",
    "    stimuli_colors=stimuli_colors,\n",
    "    fps=fps_2p,\n",
    "    stimuli_ordered=stimuli_ordered,\n",
    "    window_pre=window_pre,\n",
    "    window_post=window_post,\n",
    "    average_across_repeats=True\n",
    ")\n",
    "if chunked_data is None or chunked_data.size == 0:\n",
    "    raise ValueError(\"No stimulus chunks were extracted. Check exp_log, stimuli_ordered, and windows.\")\n",
    "# chunked_data: (neurons, time)\n",
    "\n",
    "# ===== 2) Precompute neuron orders for each sort mode (on full dfof unless noted) =====\n",
    "deltaF_F = dfof  # (frames, neurons)\n",
    "\n",
    "# (a) Max intensity (peak ΔF/F per neuron)\n",
    "max_per_neuron   = np.nanmax(chunked_data.T, axis=0)         # (neurons,)\n",
    "maxint_sorted_idx = np.argsort(-max_per_neuron)\n",
    "\n",
    "# (b) PCA (PC1 desc) over neurons\n",
    "scores    = PCA(n_components=3).fit_transform(chunked_data)  # (neurons, 3)\n",
    "PCA_order = np.argsort(-scores[:, 0])\n",
    "\n",
    "# (c) KMeans over neurons\n",
    "n_clusters = 5\n",
    "kmeans = KMeans(n_clusters=n_clusters, random_state=42).fit(chunked_data)\n",
    "kmeans_sorted_idx = np.argsort(kmeans.labels_)  # group by label\n",
    "\n",
    "# (d) Hierarchical (Ward) over neurons\n",
    "Z_hier = linkage(chunked_data, method='ward')\n",
    "clusters = fcluster(Z_hier, t=5, criterion='maxclust')\n",
    "hier_sorted_idx = np.argsort(clusters)\n",
    "\n",
    "# (e) Correlation sort on the **averaged chunks** (neurons x time)\n",
    "dist = pdist(chunked_data, metric='correlation')\n",
    "Z_corr = linkage(dist, method='average')\n",
    "corravg_sorted_idx = leaves_list(Z_corr)\n",
    "\n",
    "# Map from mode -> (index array or None, label suffix)\n",
    "sorters = {\n",
    "    \"unsorted\":        (None,                   \"unsorted\"),\n",
    "    \"max_intensity\":   (maxint_sorted_idx,      \"max_intensity\"),\n",
    "    \"pca\":             (PCA_order,              \"pca\"),\n",
    "    \"kmeans\":          (kmeans_sorted_idx,      \"kmeans\"),\n",
    "    \"hier\":            (hier_sorted_idx,        \"hier\"),\n",
    "    \"corravg\":         (corravg_sorted_idx,     \"corravg\"),  # correlation on averaged chunks\n",
    "}\n",
    "\n",
    "\n",
    "def _validate_order(idx, n_neurons, name):\n",
    "    if idx is None:\n",
    "        return None\n",
    "    if len(idx) != n_neurons:\n",
    "        raise ValueError(f\"{name} length ({len(idx)}) != number of neurons ({n_neurons}).\")\n",
    "    return idx\n",
    "\n",
    "# ===== 3) Plot once per sort mode (use chunked_data for raster) =====\n",
    "for mode, (idx, tag) in sorters.items():\n",
    "    neuron_order = _validate_order(idx, chunked_data.shape[0], name=mode)\n",
    "\n",
    "    fig, ax = plt.subplots(figsize=(9, 6))\n",
    "    im = plott.raster_with_stimuli(\n",
    "        ax=ax,\n",
    "        deltaF_F=chunked_data.T,            # (time, neurons)\n",
    "        fps=fps_2p,\n",
    "        fish_id=fish_id,\n",
    "        neuron_order=neuron_order,          # None = original order\n",
    "        title_suffix=f\"average across trials | sort={tag}\",\n",
    "        min=0.009,\n",
    "        max=0.3\n",
    "    )\n",
    "\n",
    "    # Movement onset lines with per-stim color + linestyle\n",
    "    for pos, stim_name in zip(move_starts, stim_labels):\n",
    "        color = stimuli_colors.get(stim_name, 'black')\n",
    "        ls    = stimuli_linestyles.get(stim_name, '-')  # default solid\n",
    "        ax.axvline(pos / fps_2p, color=color, linestyle=ls, alpha=0.9, linewidth=1.8)\n",
    "\n",
    "    # Legend (color + linestyle)\n",
    "    legend_handles = []\n",
    "    for stim_name in stimuli_ordered:\n",
    "        if stim_name in stimuli_colors:\n",
    "            color = stimuli_colors[stim_name]\n",
    "            ls    = stimuli_linestyles.get(stim_name, '-')\n",
    "            (line,) = ax.plot([], [], color=color, linestyle=ls, label=stim_name, linewidth=1.5)\n",
    "            legend_handles.append(line)\n",
    "\n",
    "    leg = ax.legend(\n",
    "        handles=legend_handles, title=\"Movement onset\\nacross stimuli\",\n",
    "        bbox_to_anchor=(1.2, 1), loc='upper left',\n",
    "        borderaxespad=0, frameon=False\n",
    "    )\n",
    "\n",
    "    ax.set_xlabel(\"Chunks aligned to stimulus onset (s)\")\n",
    "    fig.colorbar(im, ax=ax, label=\"ΔF/F\")\n",
    "    plt.subplots_adjust(right=0.85)\n",
    "\n",
    "    # Save\n",
    "    out_png = plots_path / f\"{prefix}_average_dfof_sorted_by_{tag}.png\"\n",
    "    fig.savefig(out_png, dpi=600, bbox_inches=\"tight\")\n",
    "    plt.close(fig)\n",
    "\n",
    "print(\"✅ Saved:\", *[f\"{prefix}_average_dfof_sorted_by_{tag}.png\" for _, (_, tag) in sorters.items()], sep=\"\\n- \")\n"
   ],
   "id": "bcf3606c71400d45",
   "outputs": [
    {
     "name": "stderr",
     "output_type": "stream",
     "text": [
      "C:\\Users\\suribear\\AppData\\Local\\anaconda3\\envs\\neuro-group\\Lib\\site-packages\\sklearn\\cluster\\_kmeans.py:1419: UserWarning: KMeans is known to have a memory leak on Windows with MKL, when there are less chunks than available threads. You can avoid it by setting the environment variable OMP_NUM_THREADS=6.\n",
      "  warnings.warn(\n"
     ]
    },
    {
     "name": "stdout",
     "output_type": "stream",
     "text": [
      "✅ Saved:\n",
      "- L472_f06_average_dfof_sorted_by_unsorted.png\n",
      "- L472_f06_average_dfof_sorted_by_max_intensity.png\n",
      "- L472_f06_average_dfof_sorted_by_pca.png\n",
      "- L472_f06_average_dfof_sorted_by_kmeans.png\n",
      "- L472_f06_average_dfof_sorted_by_hier.png\n",
      "- L472_f06_average_dfof_sorted_by_corravg.png\n"
     ]
    }
   ],
   "execution_count": 306
  },
  {
   "metadata": {
    "ExecuteTime": {
     "end_time": "2025-10-29T14:25:24.701927Z",
     "start_time": "2025-10-29T14:25:24.533552Z"
    }
   },
   "cell_type": "code",
   "source": [
    "39830830# # Define neuron groups (in sorted neuron indices)\n",
    "neuron_groups = {\n",
    "    'C1 Left Bout': (140, 185),\n",
    "    'C2 Right Bout': (85, 130),\n",
    "    'C3 Continous': (65, 85)\n",
    "}\n",
    "\n",
    "# Colors for each group\n",
    "group_colors = {\n",
    "    'C1 Left Bout': 'green',\n",
    "    'C2 Right Bout': 'firebrick',\n",
    "    'C3 Continous': 'steelblue' #\n",
    "}\n",
    "\n",
    "# Extract stimulus-aligned chunks (already averages across repeats)\n",
    "chunked_data, trial_starts, move_starts, move_colors, stim_labels = st.extract_stimulus_chunks(\n",
    "    deltaF_F=fish_data['plane3']['deltaF_F'],\n",
    "    exp_log=exp_log,\n",
    "    stimuli_durations=stimuli_durations,\n",
    "    stimuli_colors=stimuli_colors,\n",
    "    fps=fps_2p,\n",
    "    stimuli_ordered=stimuli_ordered,\n",
    "    window_pre=12,\n",
    "    window_post=2,\n",
    "    average_across_repeats=True\n",
    ")\n",
    "\n",
    "dist = pdist(chunked_data, metric='correlation')\n",
    "Z = linkage(dist, method='average')\n",
    "sorted_indices = leaves_list(Z)\n",
    "\n",
    "selected_chuncks = 4*70\n",
    "\n",
    "# Apply sorting\n",
    "#sorted_data = chunked_data[sorted_indices, :selected_chuncks]\n",
    "sorted_data = chunked_data[sorted_indices, :]\n",
    "\n",
    "fig, ax = plt.subplots(figsize=(9, 6))\n",
    "time_axis = np.arange(sorted_data.shape[1]) / fps_2p\n",
    "\n",
    "for cluster_name, (start_idx, end_idx) in neuron_groups.items():\n",
    "    cluster_data = sorted_data[start_idx:end_idx, :]  # select neurons in sorted space\n",
    "    mean_trace = np.nanmean(cluster_data, axis=0)\n",
    "    ax.plot(time_axis, mean_trace, color=group_colors[cluster_name], linewidth=2, label=cluster_name)\n",
    "\n",
    "\n",
    "# Add vertical lines for movement onsets\n",
    "for pos, color in zip(move_starts[:4], move_colors[:4]):\n",
    "    ax.axvline(pos / fps_2p, color=color, alpha=0.9, linewidth=2.5, linestyle='--')\n",
    "\n",
    "# Create legend\n",
    "legend_handles = []\n",
    "for stim_name, color in stimuli_colors.items():\n",
    "    line, = ax.plot([], [], color=color, label=stim_name, linewidth=4)\n",
    "    legend_handles.append(line)\n",
    "\n",
    "ax.legend(handles=legend_handles, title=\"Movement onset \\n across stimuli\",\n",
    "          bbox_to_anchor=(1.2, 1), loc='upper left', borderaxespad=0, frameon=False)\n",
    "ax.spines['top'].set_visible(False)\n",
    "ax.spines['right'].set_visible(False)\n",
    "ax.set_ylabel(\"Average ΔF/F\")\n",
    "ax.set_title(f\"{fish_id} Plane 3 Average ΔF/F\")\n",
    "plt.subplots_adjust(right=0.85)\n",
    "# fig.savefig(fig_paths / f'delta_average_plane3_allconditions.pdf', dpi=900)\n",
    "# fig.savefig(fig_paths / f'delta_average_plane3_allconditions.png', dpi=1000)\n",
    "plt.show()"
   ],
   "id": "de4c6449cae0afcc",
   "outputs": [
    {
     "ename": "NameError",
     "evalue": "name 'fish_data' is not defined",
     "output_type": "error",
     "traceback": [
      "\u001B[31m---------------------------------------------------------------------------\u001B[39m",
      "\u001B[31mNameError\u001B[39m                                 Traceback (most recent call last)",
      "\u001B[36mCell\u001B[39m\u001B[36m \u001B[39m\u001B[32mIn[307]\u001B[39m\u001B[32m, line 17\u001B[39m\n\u001B[32m      9\u001B[39m group_colors = {\n\u001B[32m     10\u001B[39m     \u001B[33m'\u001B[39m\u001B[33mC1 Left Bout\u001B[39m\u001B[33m'\u001B[39m: \u001B[33m'\u001B[39m\u001B[33mgreen\u001B[39m\u001B[33m'\u001B[39m,\n\u001B[32m     11\u001B[39m     \u001B[33m'\u001B[39m\u001B[33mC2 Right Bout\u001B[39m\u001B[33m'\u001B[39m: \u001B[33m'\u001B[39m\u001B[33mfirebrick\u001B[39m\u001B[33m'\u001B[39m,\n\u001B[32m     12\u001B[39m     \u001B[33m'\u001B[39m\u001B[33mC3 Continous\u001B[39m\u001B[33m'\u001B[39m: \u001B[33m'\u001B[39m\u001B[33msteelblue\u001B[39m\u001B[33m'\u001B[39m \u001B[38;5;66;03m#\u001B[39;00m\n\u001B[32m     13\u001B[39m }\n\u001B[32m     15\u001B[39m \u001B[38;5;66;03m# Extract stimulus-aligned chunks (already averages across repeats)\u001B[39;00m\n\u001B[32m     16\u001B[39m chunked_data, trial_starts, move_starts, move_colors, stim_labels = st.extract_stimulus_chunks(\n\u001B[32m---> \u001B[39m\u001B[32m17\u001B[39m     deltaF_F=fish_data[\u001B[33m'\u001B[39m\u001B[33mplane3\u001B[39m\u001B[33m'\u001B[39m][\u001B[33m'\u001B[39m\u001B[33mdeltaF_F\u001B[39m\u001B[33m'\u001B[39m],\n\u001B[32m     18\u001B[39m     exp_log=exp_log,\n\u001B[32m     19\u001B[39m     stimuli_durations=stimuli_durations,\n\u001B[32m     20\u001B[39m     stimuli_colors=stimuli_colors,\n\u001B[32m     21\u001B[39m     fps=fps_2p,\n\u001B[32m     22\u001B[39m     stimuli_ordered=stimuli_ordered,\n\u001B[32m     23\u001B[39m     window_pre=\u001B[32m12\u001B[39m,\n\u001B[32m     24\u001B[39m     window_post=\u001B[32m2\u001B[39m,\n\u001B[32m     25\u001B[39m     average_across_repeats=\u001B[38;5;28;01mTrue\u001B[39;00m\n\u001B[32m     26\u001B[39m )\n\u001B[32m     28\u001B[39m dist = pdist(chunked_data, metric=\u001B[33m'\u001B[39m\u001B[33mcorrelation\u001B[39m\u001B[33m'\u001B[39m)\n\u001B[32m     29\u001B[39m Z = linkage(dist, method=\u001B[33m'\u001B[39m\u001B[33maverage\u001B[39m\u001B[33m'\u001B[39m)\n",
      "\u001B[31mNameError\u001B[39m: name 'fish_data' is not defined"
     ]
    }
   ],
   "execution_count": 307
  },
  {
   "metadata": {},
   "cell_type": "markdown",
   "source": "#### Trace ROIs back to anatomy",
   "id": "9e890a802eec21e4"
  },
  {
   "metadata": {},
   "cell_type": "code",
   "source": [
    "stat = np.load(segmented_path / \"plane3\" / \"stat.npy\", allow_pickle=True) #load segmented ROIs\n",
    "ops = np.load(segmented_path / \"plane3\" / \"ops.npy\", allow_pickle=True).item() #\n",
    "mean_img = ops['meanImg']\n",
    "roi_indices = fish_data['plane3']['ROIs_selected']"
   ],
   "id": "7dfde9ddd4ed8f83",
   "outputs": [],
   "execution_count": null
  },
  {
   "metadata": {},
   "cell_type": "code",
   "source": [
    "chunked_data, trial_starts, move_starts, move_colors, stim_labels = st.extract_stimulus_chunks(\n",
    "        deltaF_F=fish_data['plane3']['deltaF_F'],\n",
    "        exp_log=exp_log,\n",
    "        stimuli_durations=stimuli_durations,\n",
    "        stimuli_colors=stimuli_colors,\n",
    "        fps=fps_2p,\n",
    "        stimuli_ordered=stimuli_ordered,\n",
    "        window_pre=5,\n",
    "        window_post=2,\n",
    "        average_across_repeats=True)\n",
    "\n",
    "dist = pdist(chunked_data, metric='correlation')\n",
    "Z = linkage(dist, method='average')\n",
    "sorted_indices = leaves_list(Z)\n",
    "\n",
    "# Plot with sorted neurons\n",
    "fig, ax = plt.subplots(figsize=(9, 6))\n",
    "plott.raster_with_stimuli(\n",
    "    ax=ax,\n",
    "    deltaF_F=chunked_data.T,\n",
    "    fps=fps_2p,\n",
    "    plane_name='Plane 3',\n",
    "    fish_id=fish_id,\n",
    "    neuron_order=sorted_indices,\n",
    "    title_suffix='Average across trials \\n sorted by Pearson correlation'\n",
    ")\n",
    "\n",
    "for pos, color in zip(move_starts, move_colors):\n",
    "    ax.axvline(pos / fps_2p, color=color, alpha=0.9, linewidth=1.5)\n",
    "\n",
    "legend_handles = []\n",
    "for stim_name, color in stimuli_colors.items():\n",
    "    line, = ax.plot([], [], color=color, label=stim_name, linewidth=4)\n",
    "    legend_handles.append(line)\n",
    "ax.legend(handles=legend_handles, title=\"Movement onset \\n across stimuli\", bbox_to_anchor=(1.2, 1), loc='upper left', borderaxespad=0, frameon=False)\n",
    "plt.subplots_adjust(right=0.85)\n",
    "fig.savefig(fig_paths / f'raster_average_pearson_{plane_name}.pdf', dpi=900)\n",
    "fig.savefig(fig_paths / f'raster_average_pearson_{plane_name}.png', dpi=1000)\n",
    "plt.show()"
   ],
   "id": "cf623cfdc7e3c0d8",
   "outputs": [],
   "execution_count": null
  },
  {
   "metadata": {},
   "cell_type": "code",
   "source": [
    "neuron_groups = {\n",
    "    'C1 Left Bout': (140, 185),\n",
    "    'C2 Right Bout': (85, 130),\n",
    "    'C3 Continous': (65, 85)\n",
    "}\n",
    "\n",
    "# Colors for each group\n",
    "group_colors = {\n",
    "    'C1 Left Bout': 'green',\n",
    "    'C2 Right Bout': 'firebrick',\n",
    "    'C3 Continous': 'steelblue' #\n",
    "}"
   ],
   "id": "fe563bf592c8c115",
   "outputs": [],
   "execution_count": null
  },
  {
   "metadata": {},
   "cell_type": "code",
   "source": [
    "selected_neurons_sorted = np.arange(90, 135) #140, 185 left B,  130-190 right B\n",
    "original_indices = roi_indices[sorted_indices[selected_neurons_sorted]]\n",
    "\n",
    "fig, ax = plt.subplots(figsize=(6, 6))\n",
    "\n",
    "p1, p99 = np.percentile(mean_img, (1, 99))\n",
    "mean_img_clipped = np.clip(mean_img, p1, p99)\n",
    "mean_img_norm = (mean_img_clipped - p1) / (p99 - p1)\n",
    "plt.imshow(mean_img_norm, cmap='gray')\n",
    "\n",
    "for i in original_indices:\n",
    "    xcen = stat[i]['xpix'].mean()\n",
    "    ycen = stat[i]['ypix'].mean()\n",
    "    plt.plot(xcen, ycen, 'go', markersize=5)\n",
    "\n",
    "plt.title(f\"Plane 3 - ROIs {min(selected_neurons_sorted)}–{max(selected_neurons_sorted)} \\n sorted by Pearson correlation\")\n",
    "ax.axis('off')\n",
    "plt.tight_layout()\n",
    "# fig.savefig(fig_paths / f'{plane_name}_ROIs_{min(selected_neurons_sorted)}–{max(selected_neurons_sorted)}_anatomy.pdf', dpi=900, bbox_inches='tight')\n",
    "# fig.savefig(fig_paths / f'{plane_name}_ROIs_{min(selected_neurons_sorted)}–{max(selected_neurons_sorted)}_anatomy.png', dpi=1000, bbox_inches='tight')\n",
    "plt.show()"
   ],
   "id": "d9d5f52e92a948fe",
   "outputs": [],
   "execution_count": null
  },
  {
   "metadata": {},
   "cell_type": "code",
   "source": [
    "fig, ax = plt.subplots(figsize=(6, 6))\n",
    "\n",
    "# Normalize mean image for background\n",
    "p1, p99 = np.percentile(mean_img, (1, 99))\n",
    "mean_img_clipped = np.clip(mean_img, p1, p99)\n",
    "mean_img_norm = (mean_img_clipped - p1) / (p99 - p1)\n",
    "plt.imshow(mean_img_norm, cmap='gray')\n",
    "\n",
    "# Loop over neuron groups\n",
    "for cluster_name, (start_idx, end_idx) in neuron_groups.items():\n",
    "    sorted_neurons = np.arange(start_idx, end_idx)\n",
    "    original_indices = roi_indices[sorted_indices[sorted_neurons]]\n",
    "\n",
    "    for i in original_indices:\n",
    "        xcen = stat[i]['xpix'].mean()\n",
    "        ycen = stat[i]['ypix'].mean()\n",
    "        plt.plot(xcen, ycen, 'o', color=group_colors[cluster_name], markersize=5, label=cluster_name)\n",
    "\n",
    "plt.title(f\"Plane 3 - Anatomical location of selected ROIs\")\n",
    "ax.axis('off')\n",
    "plt.tight_layout()\n",
    "fig.savefig(fig_paths / f'plane3_ROIs_clusters_anatomy.pdf', dpi=900, bbox_inches='tight')\n",
    "fig.savefig(fig_paths / f'plane3_ROIs_clusters_anatomy.png', dpi=1000, bbox_inches='tight')\n",
    "plt.show()"
   ],
   "id": "ce151e61179438c3",
   "outputs": [],
   "execution_count": null
  },
  {
   "metadata": {},
   "cell_type": "markdown",
   "source": "Average",
   "id": "10eeecdbdb46dc7e"
  }
 ],
 "metadata": {
  "kernelspec": {
   "display_name": "Python 3",
   "language": "python",
   "name": "python3"
  },
  "language_info": {
   "codemirror_mode": {
    "name": "ipython",
    "version": 2
   },
   "file_extension": ".py",
   "mimetype": "text/x-python",
   "name": "python",
   "nbconvert_exporter": "python",
   "pygments_lexer": "ipython2",
   "version": "2.7.6"
  }
 },
 "nbformat": 4,
 "nbformat_minor": 5
}
